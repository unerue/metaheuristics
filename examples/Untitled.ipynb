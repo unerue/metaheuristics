{
 "cells": [
  {
   "cell_type": "code",
   "execution_count": 1,
   "metadata": {},
   "outputs": [],
   "source": [
    "import os\n",
    "import sys\n",
    "\n",
    "# Add the parent directory for importing custom library\n",
    "sys.path.insert(0, os.path.abspath(os.path.join(os.getcwd(), os.pardir)))"
   ]
  },
  {
   "cell_type": "code",
   "execution_count": 2,
   "metadata": {},
   "outputs": [
    {
     "data": {
      "text/plain": [
       "array([[  0,  42,  73,  87,  66,  46,  91,  35,  62,  55],\n",
       "       [ 42,   0, 108,  99,  84,  85,  98,  13,  72,  64],\n",
       "       [ 73, 108,   0,  60,  46,  29,  71,  96,  60,  61],\n",
       "       [ 87,  99,  60,   0,  21,  71,  11,  86,  27,  35],\n",
       "       [ 66,  84,  46,  21,   0,  50,  29,  70,  16,  21],\n",
       "       [ 46,  85,  29,  71,  50,   0,  80,  74,  58,  56],\n",
       "       [ 91,  98,  71,  11,  29,  80,   0,  86,  29,  36],\n",
       "       [ 35,  13,  96,  86,  70,  74,  86,   0,  59,  51],\n",
       "       [ 62,  72,  60,  27,  16,  58,  29,  59,   0,   8],\n",
       "       [ 55,  64,  61,  35,  21,  56,  36,  51,   8,   0]], dtype=int32)"
      ]
     },
     "execution_count": 2,
     "metadata": {},
     "output_type": "execute_result"
    }
   ],
   "source": [
    "from metaheuristics.problems import TravelingSalesman\n",
    "\n",
    "cities = TravelingSalesman(100, 100, 10, 42).generate()\n",
    "cities"
   ]
  },
  {
   "cell_type": "code",
   "execution_count": 3,
   "metadata": {},
   "outputs": [],
   "source": [
    "from metaheuristics.neighbor import TabuSearch"
   ]
  },
  {
   "cell_type": "code",
   "execution_count": 4,
   "metadata": {},
   "outputs": [
    {
     "data": {
      "text/plain": [
       "327"
      ]
     },
     "execution_count": 4,
     "metadata": {},
     "output_type": "execute_result"
    }
   ],
   "source": [
    "tabu_search = TabuSearch(cities, 20, 10, 70)\n",
    "tabu_search.solve()"
   ]
  },
  {
   "cell_type": "code",
   "execution_count": null,
   "metadata": {},
   "outputs": [],
   "source": [
    "tabu_search.history"
   ]
  },
  {
   "cell_type": "code",
   "execution_count": null,
   "metadata": {},
   "outputs": [],
   "source": []
  },
  {
   "cell_type": "code",
   "execution_count": null,
   "metadata": {},
   "outputs": [],
   "source": []
  },
  {
   "cell_type": "code",
   "execution_count": null,
   "metadata": {},
   "outputs": [],
   "source": []
  },
  {
   "cell_type": "code",
   "execution_count": null,
   "metadata": {},
   "outputs": [],
   "source": []
  },
  {
   "cell_type": "code",
   "execution_count": null,
   "metadata": {},
   "outputs": [],
   "source": []
  }
 ],
 "metadata": {
  "kernelspec": {
   "display_name": "Python 3",
   "language": "python",
   "name": "python3"
  },
  "language_info": {
   "codemirror_mode": {
    "name": "ipython",
    "version": 3
   },
   "file_extension": ".py",
   "mimetype": "text/x-python",
   "name": "python",
   "nbconvert_exporter": "python",
   "pygments_lexer": "ipython3",
   "version": "3.7.3"
  }
 },
 "nbformat": 4,
 "nbformat_minor": 4
}
